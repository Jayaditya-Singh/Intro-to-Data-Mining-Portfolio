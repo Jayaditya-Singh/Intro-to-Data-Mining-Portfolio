{
 "cells": [
  {
   "cell_type": "markdown",
   "id": "ab458f2a",
   "metadata": {},
   "source": [
    "# Project 2"
   ]
  },
  {
   "cell_type": "markdown",
   "id": "2411f436",
   "metadata": {},
   "source": [
    "## Story"
   ]
  },
  {
   "cell_type": "markdown",
   "id": "efdf6c75",
   "metadata": {},
   "source": [
    "This project will use the dataset of video game sales from 2016 to determine whether or not a game was a hit or not a hit depending on how many copies they sold that week. The purpose of this is to see any patterns among games that are hits"
   ]
  },
  {
   "cell_type": "code",
   "execution_count": null,
   "id": "4924e8a5",
   "metadata": {},
   "outputs": [],
   "source": [
    "%pip install numpy pandas matplotlib seaborn "
   ]
  },
  {
   "cell_type": "code",
   "execution_count": 2,
   "id": "753b897c",
   "metadata": {},
   "outputs": [],
   "source": [
    "import sklearn\n",
    "import numpy as py\n",
    "import pandas as pd\n",
    "import matplotlib.pyplot as plt\n",
    "import seaborn as sns"
   ]
  },
  {
   "cell_type": "code",
   "execution_count": 3,
   "id": "56b623a6",
   "metadata": {},
   "outputs": [
    {
     "name": "stdout",
     "output_type": "stream",
     "text": [
      "                                Name Platform  Year_of_Release         Genre  \\\n",
      "0                         Wii Sports      Wii           2006.0        Sports   \n",
      "1                  Super Mario Bros.      NES           1985.0      Platform   \n",
      "2                     Mario Kart Wii      Wii           2008.0        Racing   \n",
      "3                  Wii Sports Resort      Wii           2009.0        Sports   \n",
      "4           Pokemon Red/Pokemon Blue       GB           1996.0  Role-Playing   \n",
      "...                              ...      ...              ...           ...   \n",
      "16714  Samurai Warriors: Sanada Maru      PS3           2016.0        Action   \n",
      "16715               LMA Manager 2007     X360           2006.0        Sports   \n",
      "16716        Haitaka no Psychedelica      PSV           2016.0     Adventure   \n",
      "16717               Spirits & Spells      GBA           2003.0      Platform   \n",
      "16718            Winning Post 8 2016      PSV           2016.0    Simulation   \n",
      "\n",
      "          Publisher  NA_Sales  EU_Sales  JP_Sales  Other_Sales  Global_Sales  \\\n",
      "0          Nintendo     41.36     28.96      3.77         8.45         82.53   \n",
      "1          Nintendo     29.08      3.58      6.81         0.77         40.24   \n",
      "2          Nintendo     15.68     12.76      3.79         3.29         35.52   \n",
      "3          Nintendo     15.61     10.93      3.28         2.95         32.77   \n",
      "4          Nintendo     11.27      8.89     10.22         1.00         31.37   \n",
      "...             ...       ...       ...       ...          ...           ...   \n",
      "16714    Tecmo Koei      0.00      0.00      0.01         0.00          0.01   \n",
      "16715   Codemasters      0.00      0.01      0.00         0.00          0.01   \n",
      "16716  Idea Factory      0.00      0.00      0.01         0.00          0.01   \n",
      "16717       Wanadoo      0.01      0.00      0.00         0.00          0.01   \n",
      "16718    Tecmo Koei      0.00      0.00      0.01         0.00          0.01   \n",
      "\n",
      "       Critic_Score  Critic_Count User_Score  User_Count Developer Rating  \n",
      "0              76.0          51.0          8       322.0  Nintendo      E  \n",
      "1               NaN           NaN        NaN         NaN       NaN    NaN  \n",
      "2              82.0          73.0        8.3       709.0  Nintendo      E  \n",
      "3              80.0          73.0          8       192.0  Nintendo      E  \n",
      "4               NaN           NaN        NaN         NaN       NaN    NaN  \n",
      "...             ...           ...        ...         ...       ...    ...  \n",
      "16714           NaN           NaN        NaN         NaN       NaN    NaN  \n",
      "16715           NaN           NaN        NaN         NaN       NaN    NaN  \n",
      "16716           NaN           NaN        NaN         NaN       NaN    NaN  \n",
      "16717           NaN           NaN        NaN         NaN       NaN    NaN  \n",
      "16718           NaN           NaN        NaN         NaN       NaN    NaN  \n",
      "\n",
      "[16719 rows x 16 columns]\n"
     ]
    }
   ],
   "source": [
    "game_sales_df = pd.read_csv('Video_Games_Sales_as_at_22_Dec_2016.csv')\n",
    "print(game_sales_df)"
   ]
  },
  {
   "cell_type": "code",
   "execution_count": 4,
   "id": "7d8d4e2d",
   "metadata": {},
   "outputs": [
    {
     "data": {
      "text/plain": [
       "Name                  2\n",
       "Platform              0\n",
       "Year_of_Release     269\n",
       "Genre                 2\n",
       "Publisher            54\n",
       "NA_Sales              0\n",
       "EU_Sales              0\n",
       "JP_Sales              0\n",
       "Other_Sales           0\n",
       "Global_Sales          0\n",
       "Critic_Score       8582\n",
       "Critic_Count       8582\n",
       "User_Score         6704\n",
       "User_Count         9129\n",
       "Developer          6623\n",
       "Rating             6769\n",
       "dtype: int64"
      ]
     },
     "execution_count": 4,
     "metadata": {},
     "output_type": "execute_result"
    }
   ],
   "source": [
    "game_sales_df.isnull().sum()"
   ]
  },
  {
   "cell_type": "markdown",
   "id": "85bf90ec",
   "metadata": {},
   "source": [
    "After checking if the table has null values, I need to decide whether or not it's worth removing those rows and columns."
   ]
  },
  {
   "cell_type": "markdown",
   "id": "8e655919",
   "metadata": {},
   "source": [
    "For my classification part, I'll be using a decision tree because of how easy it is for others to interpret it and can handle both numerical and categorical data. The most important columns I'll need to train my tree is the game's name, its global sales, and the target variable which I will generate. To determine whether or not a game is a \"hit\" or not, I will use the threshold of 1 million in global sales because this is the common industry standard they use to determine whether or not a game is a success. I will also have to engineer the categorical features into features where they are binary so the machine learning model can understand it."
   ]
  }
 ],
 "metadata": {
  "kernelspec": {
   "display_name": "base",
   "language": "python",
   "name": "python3"
  },
  "language_info": {
   "codemirror_mode": {
    "name": "ipython",
    "version": 3
   },
   "file_extension": ".py",
   "mimetype": "text/x-python",
   "name": "python",
   "nbconvert_exporter": "python",
   "pygments_lexer": "ipython3",
   "version": "3.13.5"
  }
 },
 "nbformat": 4,
 "nbformat_minor": 5
}
